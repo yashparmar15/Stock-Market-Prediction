{
 "cells": [
  {
   "cell_type": "code",
   "execution_count": 1,
   "id": "imperial-chorus",
   "metadata": {},
   "outputs": [
    {
     "name": "stdout",
     "output_type": "stream",
     "text": [
      "5\n"
     ]
    }
   ],
   "source": [
    "print(5)"
   ]
  },
  {
   "cell_type": "code",
   "execution_count": 2,
   "id": "permanent-apparel",
   "metadata": {},
   "outputs": [
    {
     "name": "stdout",
     "output_type": "stream",
     "text": [
      "5\n"
     ]
    }
   ],
   "source": [
    "x = 5\n",
    "print(x)"
   ]
  },
  {
   "cell_type": "code",
   "execution_count": 4,
   "id": "demographic-three",
   "metadata": {},
   "outputs": [
    {
     "name": "stdout",
     "output_type": "stream",
     "text": [
      "Requirement already satisfied: yfinance in c:\\python38\\lib\\site-packages (0.1.55)\n",
      "Requirement already satisfied: pandas>=0.24 in c:\\python38\\lib\\site-packages (from yfinance) (1.2.0)\n",
      "Requirement already satisfied: numpy>=1.15 in c:\\python38\\lib\\site-packages (from yfinance) (1.19.5)\n",
      "Requirement already satisfied: requests>=2.20 in c:\\python38\\lib\\site-packages (from yfinance) (2.24.0)\n",
      "Requirement already satisfied: multitasking>=0.0.7 in c:\\python38\\lib\\site-packages (from yfinance) (0.0.9)\n",
      "Requirement already satisfied: lxml>=4.5.1 in c:\\python38\\lib\\site-packages (from yfinance) (4.6.2)\n",
      "Requirement already satisfied: python-dateutil>=2.7.3 in c:\\python38\\lib\\site-packages (from pandas>=0.24->yfinance) (2.8.1)\n",
      "Requirement already satisfied: pytz>=2017.3 in c:\\python38\\lib\\site-packages (from pandas>=0.24->yfinance) (2020.1)\n",
      "Requirement already satisfied: idna<3,>=2.5 in c:\\python38\\lib\\site-packages (from requests>=2.20->yfinance) (2.10)\n",
      "Requirement already satisfied: certifi>=2017.4.17 in c:\\python38\\lib\\site-packages (from requests>=2.20->yfinance) (2020.6.20)\n",
      "Requirement already satisfied: urllib3!=1.25.0,!=1.25.1,<1.26,>=1.21.1 in c:\\python38\\lib\\site-packages (from requests>=2.20->yfinance) (1.25.10)\n",
      "Requirement already satisfied: chardet<4,>=3.0.2 in c:\\python38\\lib\\site-packages (from requests>=2.20->yfinance) (3.0.4)\n",
      "Requirement already satisfied: six>=1.5 in c:\\python38\\lib\\site-packages (from python-dateutil>=2.7.3->pandas>=0.24->yfinance) (1.14.0)\n"
     ]
    },
    {
     "name": "stderr",
     "output_type": "stream",
     "text": [
      "WARNING: You are using pip version 20.1.1; however, version 21.0.1 is available.\n",
      "You should consider upgrading via the 'c:\\python38\\python.exe -m pip install --upgrade pip' command.\n"
     ]
    }
   ],
   "source": [
    "!pip install yfinance"
   ]
  },
  {
   "cell_type": "code",
   "execution_count": 5,
   "id": "decimal-bottle",
   "metadata": {},
   "outputs": [
    {
     "name": "stdout",
     "output_type": "stream",
     "text": [
      "Requirement already satisfied: plotly in c:\\python38\\lib\\site-packages (4.14.3)\n",
      "Requirement already satisfied: six in c:\\python38\\lib\\site-packages (from plotly) (1.14.0)"
     ]
    },
    {
     "name": "stderr",
     "output_type": "stream",
     "text": [
      "WARNING: You are using pip version 20.1.1; however, version 21.0.1 is available.\n",
      "You should consider upgrading via the 'c:\\python38\\python.exe -m pip install --upgrade pip' command.\n"
     ]
    },
    {
     "name": "stdout",
     "output_type": "stream",
     "text": [
      "\n",
      "Requirement already satisfied: retrying>=1.3.3 in c:\\python38\\lib\\site-packages (from plotly) (1.3.3)\n"
     ]
    }
   ],
   "source": [
    "!pip install plotly"
   ]
  },
  {
   "cell_type": "code",
   "execution_count": 6,
   "id": "annoying-carter",
   "metadata": {},
   "outputs": [],
   "source": [
    "import pandas as pd\n",
    "import yfinance as yf\n",
    "msft = yf.Ticker(\"MSFT\")\n",
    "from datetime import datetime\n",
    "import plotly.graph_objects as pg"
   ]
  },
  {
   "cell_type": "code",
   "execution_count": 38,
   "id": "double-polls",
   "metadata": {},
   "outputs": [
    {
     "name": "stdout",
     "output_type": "stream",
     "text": [
      "Enter company name :- SBIN.NS\n",
      "Enter time duration :- 1wk\n",
      "Enter time interval :- 1m\n"
     ]
    }
   ],
   "source": [
    "company_name = input(\"Enter company name :- \")\n",
    "time_duration = input(\"Enter time duration :- \")\n",
    "time_interval = input(\"Enter time interval :- \")"
   ]
  },
  {
   "cell_type": "code",
   "execution_count": 39,
   "id": "handmade-constraint",
   "metadata": {},
   "outputs": [
    {
     "name": "stdout",
     "output_type": "stream",
     "text": [
      "[*********************100%***********************]  1 of 1 completed\n"
     ]
    }
   ],
   "source": [
    "df = yf.download(company_name, period=time_duration, interval=time_interval)"
   ]
  },
  {
   "cell_type": "code",
   "execution_count": 40,
   "id": "demanding-consideration",
   "metadata": {},
   "outputs": [
    {
     "data": {
      "text/html": [
       "<div>\n",
       "<style scoped>\n",
       "    .dataframe tbody tr th:only-of-type {\n",
       "        vertical-align: middle;\n",
       "    }\n",
       "\n",
       "    .dataframe tbody tr th {\n",
       "        vertical-align: top;\n",
       "    }\n",
       "\n",
       "    .dataframe thead th {\n",
       "        text-align: right;\n",
       "    }\n",
       "</style>\n",
       "<table border=\"1\" class=\"dataframe\">\n",
       "  <thead>\n",
       "    <tr style=\"text-align: right;\">\n",
       "      <th></th>\n",
       "      <th>Open</th>\n",
       "      <th>High</th>\n",
       "      <th>Low</th>\n",
       "      <th>Close</th>\n",
       "      <th>Adj Close</th>\n",
       "      <th>Volume</th>\n",
       "    </tr>\n",
       "    <tr>\n",
       "      <th>Datetime</th>\n",
       "      <th></th>\n",
       "      <th></th>\n",
       "      <th></th>\n",
       "      <th></th>\n",
       "      <th></th>\n",
       "      <th></th>\n",
       "    </tr>\n",
       "  </thead>\n",
       "  <tbody>\n",
       "    <tr>\n",
       "      <th>2021-02-19 09:15:00+05:30</th>\n",
       "      <td>414.299988</td>\n",
       "      <td>414.299988</td>\n",
       "      <td>411.500000</td>\n",
       "      <td>413.350006</td>\n",
       "      <td>413.350006</td>\n",
       "      <td>0</td>\n",
       "    </tr>\n",
       "    <tr>\n",
       "      <th>2021-02-19 09:16:00+05:30</th>\n",
       "      <td>413.149994</td>\n",
       "      <td>413.399994</td>\n",
       "      <td>412.100006</td>\n",
       "      <td>412.250000</td>\n",
       "      <td>412.250000</td>\n",
       "      <td>658249</td>\n",
       "    </tr>\n",
       "    <tr>\n",
       "      <th>2021-02-19 09:17:00+05:30</th>\n",
       "      <td>412.049988</td>\n",
       "      <td>412.450012</td>\n",
       "      <td>411.049988</td>\n",
       "      <td>412.100006</td>\n",
       "      <td>412.100006</td>\n",
       "      <td>889954</td>\n",
       "    </tr>\n",
       "    <tr>\n",
       "      <th>2021-02-19 09:18:00+05:30</th>\n",
       "      <td>412.200012</td>\n",
       "      <td>412.350006</td>\n",
       "      <td>411.500000</td>\n",
       "      <td>411.649994</td>\n",
       "      <td>411.649994</td>\n",
       "      <td>476722</td>\n",
       "    </tr>\n",
       "    <tr>\n",
       "      <th>2021-02-19 09:19:00+05:30</th>\n",
       "      <td>411.500000</td>\n",
       "      <td>411.600006</td>\n",
       "      <td>410.700012</td>\n",
       "      <td>411.450012</td>\n",
       "      <td>411.450012</td>\n",
       "      <td>464469</td>\n",
       "    </tr>\n",
       "    <tr>\n",
       "      <th>...</th>\n",
       "      <td>...</td>\n",
       "      <td>...</td>\n",
       "      <td>...</td>\n",
       "      <td>...</td>\n",
       "      <td>...</td>\n",
       "      <td>...</td>\n",
       "    </tr>\n",
       "    <tr>\n",
       "      <th>2021-02-25 15:25:00+05:30</th>\n",
       "      <td>407.049988</td>\n",
       "      <td>407.250000</td>\n",
       "      <td>406.950012</td>\n",
       "      <td>407.100006</td>\n",
       "      <td>407.100006</td>\n",
       "      <td>241074</td>\n",
       "    </tr>\n",
       "    <tr>\n",
       "      <th>2021-02-25 15:26:00+05:30</th>\n",
       "      <td>407.149994</td>\n",
       "      <td>407.149994</td>\n",
       "      <td>406.850006</td>\n",
       "      <td>407.000000</td>\n",
       "      <td>407.000000</td>\n",
       "      <td>132197</td>\n",
       "    </tr>\n",
       "    <tr>\n",
       "      <th>2021-02-25 15:27:00+05:30</th>\n",
       "      <td>406.950012</td>\n",
       "      <td>407.049988</td>\n",
       "      <td>406.899994</td>\n",
       "      <td>407.049988</td>\n",
       "      <td>407.049988</td>\n",
       "      <td>92007</td>\n",
       "    </tr>\n",
       "    <tr>\n",
       "      <th>2021-02-25 15:28:00+05:30</th>\n",
       "      <td>407.000000</td>\n",
       "      <td>407.399994</td>\n",
       "      <td>406.950012</td>\n",
       "      <td>407.200012</td>\n",
       "      <td>407.200012</td>\n",
       "      <td>105841</td>\n",
       "    </tr>\n",
       "    <tr>\n",
       "      <th>2021-02-25 15:29:00+05:30</th>\n",
       "      <td>407.200012</td>\n",
       "      <td>407.500000</td>\n",
       "      <td>407.200012</td>\n",
       "      <td>407.500000</td>\n",
       "      <td>407.500000</td>\n",
       "      <td>77131</td>\n",
       "    </tr>\n",
       "  </tbody>\n",
       "</table>\n",
       "<p>1646 rows × 6 columns</p>\n",
       "</div>"
      ],
      "text/plain": [
       "                                 Open        High         Low       Close  \\\n",
       "Datetime                                                                    \n",
       "2021-02-19 09:15:00+05:30  414.299988  414.299988  411.500000  413.350006   \n",
       "2021-02-19 09:16:00+05:30  413.149994  413.399994  412.100006  412.250000   \n",
       "2021-02-19 09:17:00+05:30  412.049988  412.450012  411.049988  412.100006   \n",
       "2021-02-19 09:18:00+05:30  412.200012  412.350006  411.500000  411.649994   \n",
       "2021-02-19 09:19:00+05:30  411.500000  411.600006  410.700012  411.450012   \n",
       "...                               ...         ...         ...         ...   \n",
       "2021-02-25 15:25:00+05:30  407.049988  407.250000  406.950012  407.100006   \n",
       "2021-02-25 15:26:00+05:30  407.149994  407.149994  406.850006  407.000000   \n",
       "2021-02-25 15:27:00+05:30  406.950012  407.049988  406.899994  407.049988   \n",
       "2021-02-25 15:28:00+05:30  407.000000  407.399994  406.950012  407.200012   \n",
       "2021-02-25 15:29:00+05:30  407.200012  407.500000  407.200012  407.500000   \n",
       "\n",
       "                            Adj Close  Volume  \n",
       "Datetime                                       \n",
       "2021-02-19 09:15:00+05:30  413.350006       0  \n",
       "2021-02-19 09:16:00+05:30  412.250000  658249  \n",
       "2021-02-19 09:17:00+05:30  412.100006  889954  \n",
       "2021-02-19 09:18:00+05:30  411.649994  476722  \n",
       "2021-02-19 09:19:00+05:30  411.450012  464469  \n",
       "...                               ...     ...  \n",
       "2021-02-25 15:25:00+05:30  407.100006  241074  \n",
       "2021-02-25 15:26:00+05:30  407.000000  132197  \n",
       "2021-02-25 15:27:00+05:30  407.049988   92007  \n",
       "2021-02-25 15:28:00+05:30  407.200012  105841  \n",
       "2021-02-25 15:29:00+05:30  407.500000   77131  \n",
       "\n",
       "[1646 rows x 6 columns]"
      ]
     },
     "execution_count": 40,
     "metadata": {},
     "output_type": "execute_result"
    }
   ],
   "source": [
    "df"
   ]
  },
  {
   "cell_type": "code",
   "execution_count": 34,
   "id": "aggressive-holocaust",
   "metadata": {},
   "outputs": [
    {
     "data": {
      "application/vnd.plotly.v1+json": {
       "config": {
        "plotlyServerURL": "https://plot.ly"
       },
       "data": [
        {
         "close": [
          17.655000686645508,
          17.665000915527344,
          17.655000686645508,
          17.655000686645508,
          17.655000686645508,
          17.655000686645508,
          17.649999618530273,
          17.655000686645508,
          17.655000686645508,
          17.665000915527344,
          17.649999618530273,
          17.655000686645508,
          17.670000076293945,
          17.674999237060547,
          17.68000030517578,
          17.674999237060547,
          17.68000030517578,
          17.68000030517578,
          17.68000030517578,
          17.674999237060547,
          17.68000030517578,
          17.684999465942383,
          17.684999465942383,
          17.700000762939453,
          17.700000762939453,
          17.69219970703125,
          17.700000762939453,
          17.704999923706055,
          17.704999923706055,
          17.704999923706055,
          17.70989990234375,
          17.704999923706055,
          17.725000381469727,
          17.725000381469727,
          17.735000610351562,
          17.735000610351562,
          17.735000610351562,
          17.735000610351562,
          17.719999313354492,
          17.725000381469727,
          17.704999923706055,
          17.704999923706055,
          17.704999923706055,
          17.69499969482422,
          17.704999923706055,
          17.709999084472656,
          17.709999084472656,
          17.700000762939453,
          17.690000534057617,
          17.690000534057617,
          17.69499969482422,
          17.700000762939453,
          17.69499969482422,
          17.69499969482422,
          17.69499969482422,
          17.69499969482422,
          17.684999465942383,
          17.68000030517578,
          17.674999237060547,
          17.68000030517578
         ],
         "high": [
          17.655000686645508,
          17.670000076293945,
          17.665000915527344,
          17.655000686645508,
          17.655000686645508,
          17.658000946044922,
          17.655000686645508,
          17.655000686645508,
          17.655000686645508,
          17.665000915527344,
          17.665000915527344,
          17.665000915527344,
          17.670000076293945,
          17.674999237060547,
          17.68000030517578,
          17.68000030517578,
          17.68000030517578,
          17.68000030517578,
          17.68000030517578,
          17.68000030517578,
          17.68000030517578,
          17.690000534057617,
          17.690000534057617,
          17.700000762939453,
          17.700000762939453,
          17.700000762939453,
          17.700000762939453,
          17.709999084472656,
          17.704999923706055,
          17.709999084472656,
          17.70989990234375,
          17.709999084472656,
          17.729999542236328,
          17.729999542236328,
          17.739999771118164,
          17.739999771118164,
          17.739999771118164,
          17.75,
          17.735000610351562,
          17.729900360107422,
          17.725000381469727,
          17.704999923706055,
          17.705400466918945,
          17.70560073852539,
          17.709999084472656,
          17.709999084472656,
          17.719999313354492,
          17.709999084472656,
          17.70840072631836,
          17.700000762939453,
          17.709999084472656,
          17.704999923706055,
          17.704999923706055,
          17.700000762939453,
          17.700000762939453,
          17.69499969482422,
          17.69499969482422,
          17.690000534057617,
          17.684999465942383,
          17.68000030517578
         ],
         "low": [
          17.655000686645508,
          17.655000686645508,
          17.649999618530273,
          17.649999618530273,
          17.655000686645508,
          17.655000686645508,
          17.649999618530273,
          17.655000686645508,
          17.655000686645508,
          17.649999618530273,
          17.649999618530273,
          17.655000686645508,
          17.649999618530273,
          17.665000915527344,
          17.674999237060547,
          17.670000076293945,
          17.674999237060547,
          17.674999237060547,
          17.674999237060547,
          17.674999237060547,
          17.670000076293945,
          17.674999237060547,
          17.684999465942383,
          17.690000534057617,
          17.69179916381836,
          17.690000534057617,
          17.69499969482422,
          17.690000534057617,
          17.704999923706055,
          17.700000762939453,
          17.700000762939453,
          17.700000762939453,
          17.704999923706055,
          17.719999313354492,
          17.719999313354492,
          17.729999542236328,
          17.729999542236328,
          17.729999542236328,
          17.719999313354492,
          17.719999313354492,
          17.700000762939453,
          17.700000762939453,
          17.700000762939453,
          17.69499969482422,
          17.700000762939453,
          17.701799392700195,
          17.709999084472656,
          17.700000762939453,
          17.690000534057617,
          17.690000534057617,
          17.690000534057617,
          17.690000534057617,
          17.690000534057617,
          17.690000534057617,
          17.690000534057617,
          17.690000534057617,
          17.68000030517578,
          17.68000030517578,
          17.670000076293945,
          17.670000076293945
         ],
         "open": [
          17.655000686645508,
          17.655000686645508,
          17.665000915527344,
          17.649999618530273,
          17.655000686645508,
          17.655000686645508,
          17.655000686645508,
          17.655000686645508,
          17.655000686645508,
          17.655000686645508,
          17.665000915527344,
          17.655000686645508,
          17.649999618530273,
          17.670000076293945,
          17.68000030517578,
          17.68000030517578,
          17.68000030517578,
          17.68000030517578,
          17.68000030517578,
          17.68000030517578,
          17.674999237060547,
          17.68000030517578,
          17.684999465942383,
          17.690000534057617,
          17.700000762939453,
          17.700000762939453,
          17.69499969482422,
          17.700000762939453,
          17.704999923706055,
          17.709999084472656,
          17.704999923706055,
          17.704999923706055,
          17.704999923706055,
          17.725000381469727,
          17.725000381469727,
          17.735000610351562,
          17.735000610351562,
          17.735000610351562,
          17.735000610351562,
          17.719999313354492,
          17.719999313354492,
          17.704999923706055,
          17.704999923706055,
          17.70560073852539,
          17.700000762939453,
          17.704999923706055,
          17.709999084472656,
          17.709999084472656,
          17.700000762939453,
          17.69499969482422,
          17.700000762939453,
          17.69499969482422,
          17.700000762939453,
          17.700000762939453,
          17.700000762939453,
          17.690000534057617,
          17.690000534057617,
          17.684999465942383,
          17.68000030517578,
          17.674999237060547
         ],
         "type": "candlestick",
         "x": [
          "2021-02-24T15:00:00-05:00",
          "2021-02-24T15:01:00-05:00",
          "2021-02-24T15:02:00-05:00",
          "2021-02-24T15:03:00-05:00",
          "2021-02-24T15:04:00-05:00",
          "2021-02-24T15:05:00-05:00",
          "2021-02-24T15:06:00-05:00",
          "2021-02-24T15:07:00-05:00",
          "2021-02-24T15:08:00-05:00",
          "2021-02-24T15:09:00-05:00",
          "2021-02-24T15:10:00-05:00",
          "2021-02-24T15:11:00-05:00",
          "2021-02-24T15:12:00-05:00",
          "2021-02-24T15:13:00-05:00",
          "2021-02-24T15:14:00-05:00",
          "2021-02-24T15:15:00-05:00",
          "2021-02-24T15:16:00-05:00",
          "2021-02-24T15:17:00-05:00",
          "2021-02-24T15:18:00-05:00",
          "2021-02-24T15:19:00-05:00",
          "2021-02-24T15:20:00-05:00",
          "2021-02-24T15:21:00-05:00",
          "2021-02-24T15:22:00-05:00",
          "2021-02-24T15:23:00-05:00",
          "2021-02-24T15:24:00-05:00",
          "2021-02-24T15:25:00-05:00",
          "2021-02-24T15:26:00-05:00",
          "2021-02-24T15:27:00-05:00",
          "2021-02-24T15:28:00-05:00",
          "2021-02-24T15:29:00-05:00",
          "2021-02-24T15:30:00-05:00",
          "2021-02-24T15:31:00-05:00",
          "2021-02-24T15:32:00-05:00",
          "2021-02-24T15:33:00-05:00",
          "2021-02-24T15:34:00-05:00",
          "2021-02-24T15:35:00-05:00",
          "2021-02-24T15:36:00-05:00",
          "2021-02-24T15:37:00-05:00",
          "2021-02-24T15:38:00-05:00",
          "2021-02-24T15:39:00-05:00",
          "2021-02-24T15:40:00-05:00",
          "2021-02-24T15:41:00-05:00",
          "2021-02-24T15:42:00-05:00",
          "2021-02-24T15:43:00-05:00",
          "2021-02-24T15:44:00-05:00",
          "2021-02-24T15:45:00-05:00",
          "2021-02-24T15:46:00-05:00",
          "2021-02-24T15:47:00-05:00",
          "2021-02-24T15:48:00-05:00",
          "2021-02-24T15:49:00-05:00",
          "2021-02-24T15:50:00-05:00",
          "2021-02-24T15:51:00-05:00",
          "2021-02-24T15:52:00-05:00",
          "2021-02-24T15:53:00-05:00",
          "2021-02-24T15:54:00-05:00",
          "2021-02-24T15:55:00-05:00",
          "2021-02-24T15:56:00-05:00",
          "2021-02-24T15:57:00-05:00",
          "2021-02-24T15:58:00-05:00",
          "2021-02-24T15:59:00-05:00"
         ]
        }
       ],
       "layout": {
        "template": {
         "data": {
          "bar": [
           {
            "error_x": {
             "color": "#2a3f5f"
            },
            "error_y": {
             "color": "#2a3f5f"
            },
            "marker": {
             "line": {
              "color": "#E5ECF6",
              "width": 0.5
             }
            },
            "type": "bar"
           }
          ],
          "barpolar": [
           {
            "marker": {
             "line": {
              "color": "#E5ECF6",
              "width": 0.5
             }
            },
            "type": "barpolar"
           }
          ],
          "carpet": [
           {
            "aaxis": {
             "endlinecolor": "#2a3f5f",
             "gridcolor": "white",
             "linecolor": "white",
             "minorgridcolor": "white",
             "startlinecolor": "#2a3f5f"
            },
            "baxis": {
             "endlinecolor": "#2a3f5f",
             "gridcolor": "white",
             "linecolor": "white",
             "minorgridcolor": "white",
             "startlinecolor": "#2a3f5f"
            },
            "type": "carpet"
           }
          ],
          "choropleth": [
           {
            "colorbar": {
             "outlinewidth": 0,
             "ticks": ""
            },
            "type": "choropleth"
           }
          ],
          "contour": [
           {
            "colorbar": {
             "outlinewidth": 0,
             "ticks": ""
            },
            "colorscale": [
             [
              0,
              "#0d0887"
             ],
             [
              0.1111111111111111,
              "#46039f"
             ],
             [
              0.2222222222222222,
              "#7201a8"
             ],
             [
              0.3333333333333333,
              "#9c179e"
             ],
             [
              0.4444444444444444,
              "#bd3786"
             ],
             [
              0.5555555555555556,
              "#d8576b"
             ],
             [
              0.6666666666666666,
              "#ed7953"
             ],
             [
              0.7777777777777778,
              "#fb9f3a"
             ],
             [
              0.8888888888888888,
              "#fdca26"
             ],
             [
              1,
              "#f0f921"
             ]
            ],
            "type": "contour"
           }
          ],
          "contourcarpet": [
           {
            "colorbar": {
             "outlinewidth": 0,
             "ticks": ""
            },
            "type": "contourcarpet"
           }
          ],
          "heatmap": [
           {
            "colorbar": {
             "outlinewidth": 0,
             "ticks": ""
            },
            "colorscale": [
             [
              0,
              "#0d0887"
             ],
             [
              0.1111111111111111,
              "#46039f"
             ],
             [
              0.2222222222222222,
              "#7201a8"
             ],
             [
              0.3333333333333333,
              "#9c179e"
             ],
             [
              0.4444444444444444,
              "#bd3786"
             ],
             [
              0.5555555555555556,
              "#d8576b"
             ],
             [
              0.6666666666666666,
              "#ed7953"
             ],
             [
              0.7777777777777778,
              "#fb9f3a"
             ],
             [
              0.8888888888888888,
              "#fdca26"
             ],
             [
              1,
              "#f0f921"
             ]
            ],
            "type": "heatmap"
           }
          ],
          "heatmapgl": [
           {
            "colorbar": {
             "outlinewidth": 0,
             "ticks": ""
            },
            "colorscale": [
             [
              0,
              "#0d0887"
             ],
             [
              0.1111111111111111,
              "#46039f"
             ],
             [
              0.2222222222222222,
              "#7201a8"
             ],
             [
              0.3333333333333333,
              "#9c179e"
             ],
             [
              0.4444444444444444,
              "#bd3786"
             ],
             [
              0.5555555555555556,
              "#d8576b"
             ],
             [
              0.6666666666666666,
              "#ed7953"
             ],
             [
              0.7777777777777778,
              "#fb9f3a"
             ],
             [
              0.8888888888888888,
              "#fdca26"
             ],
             [
              1,
              "#f0f921"
             ]
            ],
            "type": "heatmapgl"
           }
          ],
          "histogram": [
           {
            "marker": {
             "colorbar": {
              "outlinewidth": 0,
              "ticks": ""
             }
            },
            "type": "histogram"
           }
          ],
          "histogram2d": [
           {
            "colorbar": {
             "outlinewidth": 0,
             "ticks": ""
            },
            "colorscale": [
             [
              0,
              "#0d0887"
             ],
             [
              0.1111111111111111,
              "#46039f"
             ],
             [
              0.2222222222222222,
              "#7201a8"
             ],
             [
              0.3333333333333333,
              "#9c179e"
             ],
             [
              0.4444444444444444,
              "#bd3786"
             ],
             [
              0.5555555555555556,
              "#d8576b"
             ],
             [
              0.6666666666666666,
              "#ed7953"
             ],
             [
              0.7777777777777778,
              "#fb9f3a"
             ],
             [
              0.8888888888888888,
              "#fdca26"
             ],
             [
              1,
              "#f0f921"
             ]
            ],
            "type": "histogram2d"
           }
          ],
          "histogram2dcontour": [
           {
            "colorbar": {
             "outlinewidth": 0,
             "ticks": ""
            },
            "colorscale": [
             [
              0,
              "#0d0887"
             ],
             [
              0.1111111111111111,
              "#46039f"
             ],
             [
              0.2222222222222222,
              "#7201a8"
             ],
             [
              0.3333333333333333,
              "#9c179e"
             ],
             [
              0.4444444444444444,
              "#bd3786"
             ],
             [
              0.5555555555555556,
              "#d8576b"
             ],
             [
              0.6666666666666666,
              "#ed7953"
             ],
             [
              0.7777777777777778,
              "#fb9f3a"
             ],
             [
              0.8888888888888888,
              "#fdca26"
             ],
             [
              1,
              "#f0f921"
             ]
            ],
            "type": "histogram2dcontour"
           }
          ],
          "mesh3d": [
           {
            "colorbar": {
             "outlinewidth": 0,
             "ticks": ""
            },
            "type": "mesh3d"
           }
          ],
          "parcoords": [
           {
            "line": {
             "colorbar": {
              "outlinewidth": 0,
              "ticks": ""
             }
            },
            "type": "parcoords"
           }
          ],
          "pie": [
           {
            "automargin": true,
            "type": "pie"
           }
          ],
          "scatter": [
           {
            "marker": {
             "colorbar": {
              "outlinewidth": 0,
              "ticks": ""
             }
            },
            "type": "scatter"
           }
          ],
          "scatter3d": [
           {
            "line": {
             "colorbar": {
              "outlinewidth": 0,
              "ticks": ""
             }
            },
            "marker": {
             "colorbar": {
              "outlinewidth": 0,
              "ticks": ""
             }
            },
            "type": "scatter3d"
           }
          ],
          "scattercarpet": [
           {
            "marker": {
             "colorbar": {
              "outlinewidth": 0,
              "ticks": ""
             }
            },
            "type": "scattercarpet"
           }
          ],
          "scattergeo": [
           {
            "marker": {
             "colorbar": {
              "outlinewidth": 0,
              "ticks": ""
             }
            },
            "type": "scattergeo"
           }
          ],
          "scattergl": [
           {
            "marker": {
             "colorbar": {
              "outlinewidth": 0,
              "ticks": ""
             }
            },
            "type": "scattergl"
           }
          ],
          "scattermapbox": [
           {
            "marker": {
             "colorbar": {
              "outlinewidth": 0,
              "ticks": ""
             }
            },
            "type": "scattermapbox"
           }
          ],
          "scatterpolar": [
           {
            "marker": {
             "colorbar": {
              "outlinewidth": 0,
              "ticks": ""
             }
            },
            "type": "scatterpolar"
           }
          ],
          "scatterpolargl": [
           {
            "marker": {
             "colorbar": {
              "outlinewidth": 0,
              "ticks": ""
             }
            },
            "type": "scatterpolargl"
           }
          ],
          "scatterternary": [
           {
            "marker": {
             "colorbar": {
              "outlinewidth": 0,
              "ticks": ""
             }
            },
            "type": "scatterternary"
           }
          ],
          "surface": [
           {
            "colorbar": {
             "outlinewidth": 0,
             "ticks": ""
            },
            "colorscale": [
             [
              0,
              "#0d0887"
             ],
             [
              0.1111111111111111,
              "#46039f"
             ],
             [
              0.2222222222222222,
              "#7201a8"
             ],
             [
              0.3333333333333333,
              "#9c179e"
             ],
             [
              0.4444444444444444,
              "#bd3786"
             ],
             [
              0.5555555555555556,
              "#d8576b"
             ],
             [
              0.6666666666666666,
              "#ed7953"
             ],
             [
              0.7777777777777778,
              "#fb9f3a"
             ],
             [
              0.8888888888888888,
              "#fdca26"
             ],
             [
              1,
              "#f0f921"
             ]
            ],
            "type": "surface"
           }
          ],
          "table": [
           {
            "cells": {
             "fill": {
              "color": "#EBF0F8"
             },
             "line": {
              "color": "white"
             }
            },
            "header": {
             "fill": {
              "color": "#C8D4E3"
             },
             "line": {
              "color": "white"
             }
            },
            "type": "table"
           }
          ]
         },
         "layout": {
          "annotationdefaults": {
           "arrowcolor": "#2a3f5f",
           "arrowhead": 0,
           "arrowwidth": 1
          },
          "autotypenumbers": "strict",
          "coloraxis": {
           "colorbar": {
            "outlinewidth": 0,
            "ticks": ""
           }
          },
          "colorscale": {
           "diverging": [
            [
             0,
             "#8e0152"
            ],
            [
             0.1,
             "#c51b7d"
            ],
            [
             0.2,
             "#de77ae"
            ],
            [
             0.3,
             "#f1b6da"
            ],
            [
             0.4,
             "#fde0ef"
            ],
            [
             0.5,
             "#f7f7f7"
            ],
            [
             0.6,
             "#e6f5d0"
            ],
            [
             0.7,
             "#b8e186"
            ],
            [
             0.8,
             "#7fbc41"
            ],
            [
             0.9,
             "#4d9221"
            ],
            [
             1,
             "#276419"
            ]
           ],
           "sequential": [
            [
             0,
             "#0d0887"
            ],
            [
             0.1111111111111111,
             "#46039f"
            ],
            [
             0.2222222222222222,
             "#7201a8"
            ],
            [
             0.3333333333333333,
             "#9c179e"
            ],
            [
             0.4444444444444444,
             "#bd3786"
            ],
            [
             0.5555555555555556,
             "#d8576b"
            ],
            [
             0.6666666666666666,
             "#ed7953"
            ],
            [
             0.7777777777777778,
             "#fb9f3a"
            ],
            [
             0.8888888888888888,
             "#fdca26"
            ],
            [
             1,
             "#f0f921"
            ]
           ],
           "sequentialminus": [
            [
             0,
             "#0d0887"
            ],
            [
             0.1111111111111111,
             "#46039f"
            ],
            [
             0.2222222222222222,
             "#7201a8"
            ],
            [
             0.3333333333333333,
             "#9c179e"
            ],
            [
             0.4444444444444444,
             "#bd3786"
            ],
            [
             0.5555555555555556,
             "#d8576b"
            ],
            [
             0.6666666666666666,
             "#ed7953"
            ],
            [
             0.7777777777777778,
             "#fb9f3a"
            ],
            [
             0.8888888888888888,
             "#fdca26"
            ],
            [
             1,
             "#f0f921"
            ]
           ]
          },
          "colorway": [
           "#636efa",
           "#EF553B",
           "#00cc96",
           "#ab63fa",
           "#FFA15A",
           "#19d3f3",
           "#FF6692",
           "#B6E880",
           "#FF97FF",
           "#FECB52"
          ],
          "font": {
           "color": "#2a3f5f"
          },
          "geo": {
           "bgcolor": "white",
           "lakecolor": "white",
           "landcolor": "#E5ECF6",
           "showlakes": true,
           "showland": true,
           "subunitcolor": "white"
          },
          "hoverlabel": {
           "align": "left"
          },
          "hovermode": "closest",
          "mapbox": {
           "style": "light"
          },
          "paper_bgcolor": "white",
          "plot_bgcolor": "#E5ECF6",
          "polar": {
           "angularaxis": {
            "gridcolor": "white",
            "linecolor": "white",
            "ticks": ""
           },
           "bgcolor": "#E5ECF6",
           "radialaxis": {
            "gridcolor": "white",
            "linecolor": "white",
            "ticks": ""
           }
          },
          "scene": {
           "xaxis": {
            "backgroundcolor": "#E5ECF6",
            "gridcolor": "white",
            "gridwidth": 2,
            "linecolor": "white",
            "showbackground": true,
            "ticks": "",
            "zerolinecolor": "white"
           },
           "yaxis": {
            "backgroundcolor": "#E5ECF6",
            "gridcolor": "white",
            "gridwidth": 2,
            "linecolor": "white",
            "showbackground": true,
            "ticks": "",
            "zerolinecolor": "white"
           },
           "zaxis": {
            "backgroundcolor": "#E5ECF6",
            "gridcolor": "white",
            "gridwidth": 2,
            "linecolor": "white",
            "showbackground": true,
            "ticks": "",
            "zerolinecolor": "white"
           }
          },
          "shapedefaults": {
           "line": {
            "color": "#2a3f5f"
           }
          },
          "ternary": {
           "aaxis": {
            "gridcolor": "white",
            "linecolor": "white",
            "ticks": ""
           },
           "baxis": {
            "gridcolor": "white",
            "linecolor": "white",
            "ticks": ""
           },
           "bgcolor": "#E5ECF6",
           "caxis": {
            "gridcolor": "white",
            "linecolor": "white",
            "ticks": ""
           }
          },
          "title": {
           "x": 0.05
          },
          "xaxis": {
           "automargin": true,
           "gridcolor": "white",
           "linecolor": "white",
           "ticks": "",
           "title": {
            "standoff": 15
           },
           "zerolinecolor": "white",
           "zerolinewidth": 2
          },
          "yaxis": {
           "automargin": true,
           "gridcolor": "white",
           "linecolor": "white",
           "ticks": "",
           "title": {
            "standoff": 15
           },
           "zerolinecolor": "white",
           "zerolinewidth": 2
          }
         }
        },
        "title": {
         "text": "Historical Data"
        },
        "yaxis": {
         "title": {
          "text": "INFYStock"
         }
        }
       }
      },
      "text/html": [
       "<div>                            <div id=\"3781863c-34bf-41b5-82e1-fef507146e55\" class=\"plotly-graph-div\" style=\"height:525px; width:100%;\"></div>            <script type=\"text/javascript\">                require([\"plotly\"], function(Plotly) {                    window.PLOTLYENV=window.PLOTLYENV || {};                                    if (document.getElementById(\"3781863c-34bf-41b5-82e1-fef507146e55\")) {                    Plotly.newPlot(                        \"3781863c-34bf-41b5-82e1-fef507146e55\",                        [{\"close\": [17.655000686645508, 17.665000915527344, 17.655000686645508, 17.655000686645508, 17.655000686645508, 17.655000686645508, 17.649999618530273, 17.655000686645508, 17.655000686645508, 17.665000915527344, 17.649999618530273, 17.655000686645508, 17.670000076293945, 17.674999237060547, 17.68000030517578, 17.674999237060547, 17.68000030517578, 17.68000030517578, 17.68000030517578, 17.674999237060547, 17.68000030517578, 17.684999465942383, 17.684999465942383, 17.700000762939453, 17.700000762939453, 17.69219970703125, 17.700000762939453, 17.704999923706055, 17.704999923706055, 17.704999923706055, 17.70989990234375, 17.704999923706055, 17.725000381469727, 17.725000381469727, 17.735000610351562, 17.735000610351562, 17.735000610351562, 17.735000610351562, 17.719999313354492, 17.725000381469727, 17.704999923706055, 17.704999923706055, 17.704999923706055, 17.69499969482422, 17.704999923706055, 17.709999084472656, 17.709999084472656, 17.700000762939453, 17.690000534057617, 17.690000534057617, 17.69499969482422, 17.700000762939453, 17.69499969482422, 17.69499969482422, 17.69499969482422, 17.69499969482422, 17.684999465942383, 17.68000030517578, 17.674999237060547, 17.68000030517578], \"high\": [17.655000686645508, 17.670000076293945, 17.665000915527344, 17.655000686645508, 17.655000686645508, 17.658000946044922, 17.655000686645508, 17.655000686645508, 17.655000686645508, 17.665000915527344, 17.665000915527344, 17.665000915527344, 17.670000076293945, 17.674999237060547, 17.68000030517578, 17.68000030517578, 17.68000030517578, 17.68000030517578, 17.68000030517578, 17.68000030517578, 17.68000030517578, 17.690000534057617, 17.690000534057617, 17.700000762939453, 17.700000762939453, 17.700000762939453, 17.700000762939453, 17.709999084472656, 17.704999923706055, 17.709999084472656, 17.70989990234375, 17.709999084472656, 17.729999542236328, 17.729999542236328, 17.739999771118164, 17.739999771118164, 17.739999771118164, 17.75, 17.735000610351562, 17.729900360107422, 17.725000381469727, 17.704999923706055, 17.705400466918945, 17.70560073852539, 17.709999084472656, 17.709999084472656, 17.719999313354492, 17.709999084472656, 17.70840072631836, 17.700000762939453, 17.709999084472656, 17.704999923706055, 17.704999923706055, 17.700000762939453, 17.700000762939453, 17.69499969482422, 17.69499969482422, 17.690000534057617, 17.684999465942383, 17.68000030517578], \"low\": [17.655000686645508, 17.655000686645508, 17.649999618530273, 17.649999618530273, 17.655000686645508, 17.655000686645508, 17.649999618530273, 17.655000686645508, 17.655000686645508, 17.649999618530273, 17.649999618530273, 17.655000686645508, 17.649999618530273, 17.665000915527344, 17.674999237060547, 17.670000076293945, 17.674999237060547, 17.674999237060547, 17.674999237060547, 17.674999237060547, 17.670000076293945, 17.674999237060547, 17.684999465942383, 17.690000534057617, 17.69179916381836, 17.690000534057617, 17.69499969482422, 17.690000534057617, 17.704999923706055, 17.700000762939453, 17.700000762939453, 17.700000762939453, 17.704999923706055, 17.719999313354492, 17.719999313354492, 17.729999542236328, 17.729999542236328, 17.729999542236328, 17.719999313354492, 17.719999313354492, 17.700000762939453, 17.700000762939453, 17.700000762939453, 17.69499969482422, 17.700000762939453, 17.701799392700195, 17.709999084472656, 17.700000762939453, 17.690000534057617, 17.690000534057617, 17.690000534057617, 17.690000534057617, 17.690000534057617, 17.690000534057617, 17.690000534057617, 17.690000534057617, 17.68000030517578, 17.68000030517578, 17.670000076293945, 17.670000076293945], \"open\": [17.655000686645508, 17.655000686645508, 17.665000915527344, 17.649999618530273, 17.655000686645508, 17.655000686645508, 17.655000686645508, 17.655000686645508, 17.655000686645508, 17.655000686645508, 17.665000915527344, 17.655000686645508, 17.649999618530273, 17.670000076293945, 17.68000030517578, 17.68000030517578, 17.68000030517578, 17.68000030517578, 17.68000030517578, 17.68000030517578, 17.674999237060547, 17.68000030517578, 17.684999465942383, 17.690000534057617, 17.700000762939453, 17.700000762939453, 17.69499969482422, 17.700000762939453, 17.704999923706055, 17.709999084472656, 17.704999923706055, 17.704999923706055, 17.704999923706055, 17.725000381469727, 17.725000381469727, 17.735000610351562, 17.735000610351562, 17.735000610351562, 17.735000610351562, 17.719999313354492, 17.719999313354492, 17.704999923706055, 17.704999923706055, 17.70560073852539, 17.700000762939453, 17.704999923706055, 17.709999084472656, 17.709999084472656, 17.700000762939453, 17.69499969482422, 17.700000762939453, 17.69499969482422, 17.700000762939453, 17.700000762939453, 17.700000762939453, 17.690000534057617, 17.690000534057617, 17.684999465942383, 17.68000030517578, 17.674999237060547], \"type\": \"candlestick\", \"x\": [\"2021-02-24T15:00:00-05:00\", \"2021-02-24T15:01:00-05:00\", \"2021-02-24T15:02:00-05:00\", \"2021-02-24T15:03:00-05:00\", \"2021-02-24T15:04:00-05:00\", \"2021-02-24T15:05:00-05:00\", \"2021-02-24T15:06:00-05:00\", \"2021-02-24T15:07:00-05:00\", \"2021-02-24T15:08:00-05:00\", \"2021-02-24T15:09:00-05:00\", \"2021-02-24T15:10:00-05:00\", \"2021-02-24T15:11:00-05:00\", \"2021-02-24T15:12:00-05:00\", \"2021-02-24T15:13:00-05:00\", \"2021-02-24T15:14:00-05:00\", \"2021-02-24T15:15:00-05:00\", \"2021-02-24T15:16:00-05:00\", \"2021-02-24T15:17:00-05:00\", \"2021-02-24T15:18:00-05:00\", \"2021-02-24T15:19:00-05:00\", \"2021-02-24T15:20:00-05:00\", \"2021-02-24T15:21:00-05:00\", \"2021-02-24T15:22:00-05:00\", \"2021-02-24T15:23:00-05:00\", \"2021-02-24T15:24:00-05:00\", \"2021-02-24T15:25:00-05:00\", \"2021-02-24T15:26:00-05:00\", \"2021-02-24T15:27:00-05:00\", \"2021-02-24T15:28:00-05:00\", \"2021-02-24T15:29:00-05:00\", \"2021-02-24T15:30:00-05:00\", \"2021-02-24T15:31:00-05:00\", \"2021-02-24T15:32:00-05:00\", \"2021-02-24T15:33:00-05:00\", \"2021-02-24T15:34:00-05:00\", \"2021-02-24T15:35:00-05:00\", \"2021-02-24T15:36:00-05:00\", \"2021-02-24T15:37:00-05:00\", \"2021-02-24T15:38:00-05:00\", \"2021-02-24T15:39:00-05:00\", \"2021-02-24T15:40:00-05:00\", \"2021-02-24T15:41:00-05:00\", \"2021-02-24T15:42:00-05:00\", \"2021-02-24T15:43:00-05:00\", \"2021-02-24T15:44:00-05:00\", \"2021-02-24T15:45:00-05:00\", \"2021-02-24T15:46:00-05:00\", \"2021-02-24T15:47:00-05:00\", \"2021-02-24T15:48:00-05:00\", \"2021-02-24T15:49:00-05:00\", \"2021-02-24T15:50:00-05:00\", \"2021-02-24T15:51:00-05:00\", \"2021-02-24T15:52:00-05:00\", \"2021-02-24T15:53:00-05:00\", \"2021-02-24T15:54:00-05:00\", \"2021-02-24T15:55:00-05:00\", \"2021-02-24T15:56:00-05:00\", \"2021-02-24T15:57:00-05:00\", \"2021-02-24T15:58:00-05:00\", \"2021-02-24T15:59:00-05:00\"]}],                        {\"template\": {\"data\": {\"bar\": [{\"error_x\": {\"color\": \"#2a3f5f\"}, \"error_y\": {\"color\": \"#2a3f5f\"}, \"marker\": {\"line\": {\"color\": \"#E5ECF6\", \"width\": 0.5}}, \"type\": \"bar\"}], \"barpolar\": [{\"marker\": {\"line\": {\"color\": \"#E5ECF6\", \"width\": 0.5}}, \"type\": \"barpolar\"}], \"carpet\": [{\"aaxis\": {\"endlinecolor\": \"#2a3f5f\", \"gridcolor\": \"white\", \"linecolor\": \"white\", \"minorgridcolor\": \"white\", \"startlinecolor\": \"#2a3f5f\"}, \"baxis\": {\"endlinecolor\": \"#2a3f5f\", \"gridcolor\": \"white\", \"linecolor\": \"white\", \"minorgridcolor\": \"white\", \"startlinecolor\": \"#2a3f5f\"}, \"type\": \"carpet\"}], \"choropleth\": [{\"colorbar\": {\"outlinewidth\": 0, \"ticks\": \"\"}, \"type\": \"choropleth\"}], \"contour\": [{\"colorbar\": {\"outlinewidth\": 0, \"ticks\": \"\"}, \"colorscale\": [[0.0, \"#0d0887\"], [0.1111111111111111, \"#46039f\"], [0.2222222222222222, \"#7201a8\"], [0.3333333333333333, \"#9c179e\"], [0.4444444444444444, \"#bd3786\"], [0.5555555555555556, \"#d8576b\"], [0.6666666666666666, \"#ed7953\"], [0.7777777777777778, \"#fb9f3a\"], [0.8888888888888888, \"#fdca26\"], [1.0, \"#f0f921\"]], \"type\": \"contour\"}], \"contourcarpet\": [{\"colorbar\": {\"outlinewidth\": 0, \"ticks\": \"\"}, \"type\": \"contourcarpet\"}], \"heatmap\": [{\"colorbar\": {\"outlinewidth\": 0, \"ticks\": \"\"}, \"colorscale\": [[0.0, \"#0d0887\"], [0.1111111111111111, \"#46039f\"], [0.2222222222222222, \"#7201a8\"], [0.3333333333333333, \"#9c179e\"], [0.4444444444444444, \"#bd3786\"], [0.5555555555555556, \"#d8576b\"], [0.6666666666666666, \"#ed7953\"], [0.7777777777777778, \"#fb9f3a\"], [0.8888888888888888, \"#fdca26\"], [1.0, \"#f0f921\"]], \"type\": \"heatmap\"}], \"heatmapgl\": [{\"colorbar\": {\"outlinewidth\": 0, \"ticks\": \"\"}, \"colorscale\": [[0.0, \"#0d0887\"], [0.1111111111111111, \"#46039f\"], [0.2222222222222222, \"#7201a8\"], [0.3333333333333333, \"#9c179e\"], [0.4444444444444444, \"#bd3786\"], [0.5555555555555556, \"#d8576b\"], [0.6666666666666666, \"#ed7953\"], [0.7777777777777778, \"#fb9f3a\"], [0.8888888888888888, \"#fdca26\"], [1.0, \"#f0f921\"]], \"type\": \"heatmapgl\"}], \"histogram\": [{\"marker\": {\"colorbar\": {\"outlinewidth\": 0, \"ticks\": \"\"}}, \"type\": \"histogram\"}], \"histogram2d\": [{\"colorbar\": {\"outlinewidth\": 0, \"ticks\": \"\"}, \"colorscale\": [[0.0, \"#0d0887\"], [0.1111111111111111, \"#46039f\"], [0.2222222222222222, \"#7201a8\"], [0.3333333333333333, \"#9c179e\"], [0.4444444444444444, \"#bd3786\"], [0.5555555555555556, \"#d8576b\"], [0.6666666666666666, \"#ed7953\"], [0.7777777777777778, \"#fb9f3a\"], [0.8888888888888888, \"#fdca26\"], [1.0, \"#f0f921\"]], \"type\": \"histogram2d\"}], \"histogram2dcontour\": [{\"colorbar\": {\"outlinewidth\": 0, \"ticks\": \"\"}, \"colorscale\": [[0.0, \"#0d0887\"], [0.1111111111111111, \"#46039f\"], [0.2222222222222222, \"#7201a8\"], [0.3333333333333333, \"#9c179e\"], [0.4444444444444444, \"#bd3786\"], [0.5555555555555556, \"#d8576b\"], [0.6666666666666666, \"#ed7953\"], [0.7777777777777778, \"#fb9f3a\"], [0.8888888888888888, \"#fdca26\"], [1.0, \"#f0f921\"]], \"type\": \"histogram2dcontour\"}], \"mesh3d\": [{\"colorbar\": {\"outlinewidth\": 0, \"ticks\": \"\"}, \"type\": \"mesh3d\"}], \"parcoords\": [{\"line\": {\"colorbar\": {\"outlinewidth\": 0, \"ticks\": \"\"}}, \"type\": \"parcoords\"}], \"pie\": [{\"automargin\": true, \"type\": \"pie\"}], \"scatter\": [{\"marker\": {\"colorbar\": {\"outlinewidth\": 0, \"ticks\": \"\"}}, \"type\": \"scatter\"}], \"scatter3d\": [{\"line\": {\"colorbar\": {\"outlinewidth\": 0, \"ticks\": \"\"}}, \"marker\": {\"colorbar\": {\"outlinewidth\": 0, \"ticks\": \"\"}}, \"type\": \"scatter3d\"}], \"scattercarpet\": [{\"marker\": {\"colorbar\": {\"outlinewidth\": 0, \"ticks\": \"\"}}, \"type\": \"scattercarpet\"}], \"scattergeo\": [{\"marker\": {\"colorbar\": {\"outlinewidth\": 0, \"ticks\": \"\"}}, \"type\": \"scattergeo\"}], \"scattergl\": [{\"marker\": {\"colorbar\": {\"outlinewidth\": 0, \"ticks\": \"\"}}, \"type\": \"scattergl\"}], \"scattermapbox\": [{\"marker\": {\"colorbar\": {\"outlinewidth\": 0, \"ticks\": \"\"}}, \"type\": \"scattermapbox\"}], \"scatterpolar\": [{\"marker\": {\"colorbar\": {\"outlinewidth\": 0, \"ticks\": \"\"}}, \"type\": \"scatterpolar\"}], \"scatterpolargl\": [{\"marker\": {\"colorbar\": {\"outlinewidth\": 0, \"ticks\": \"\"}}, \"type\": \"scatterpolargl\"}], \"scatterternary\": [{\"marker\": {\"colorbar\": {\"outlinewidth\": 0, \"ticks\": \"\"}}, \"type\": \"scatterternary\"}], \"surface\": [{\"colorbar\": {\"outlinewidth\": 0, \"ticks\": \"\"}, \"colorscale\": [[0.0, \"#0d0887\"], [0.1111111111111111, \"#46039f\"], [0.2222222222222222, \"#7201a8\"], [0.3333333333333333, \"#9c179e\"], [0.4444444444444444, \"#bd3786\"], [0.5555555555555556, \"#d8576b\"], [0.6666666666666666, \"#ed7953\"], [0.7777777777777778, \"#fb9f3a\"], [0.8888888888888888, \"#fdca26\"], [1.0, \"#f0f921\"]], \"type\": \"surface\"}], \"table\": [{\"cells\": {\"fill\": {\"color\": \"#EBF0F8\"}, \"line\": {\"color\": \"white\"}}, \"header\": {\"fill\": {\"color\": \"#C8D4E3\"}, \"line\": {\"color\": \"white\"}}, \"type\": \"table\"}]}, \"layout\": {\"annotationdefaults\": {\"arrowcolor\": \"#2a3f5f\", \"arrowhead\": 0, \"arrowwidth\": 1}, \"autotypenumbers\": \"strict\", \"coloraxis\": {\"colorbar\": {\"outlinewidth\": 0, \"ticks\": \"\"}}, \"colorscale\": {\"diverging\": [[0, \"#8e0152\"], [0.1, \"#c51b7d\"], [0.2, \"#de77ae\"], [0.3, \"#f1b6da\"], [0.4, \"#fde0ef\"], [0.5, \"#f7f7f7\"], [0.6, \"#e6f5d0\"], [0.7, \"#b8e186\"], [0.8, \"#7fbc41\"], [0.9, \"#4d9221\"], [1, \"#276419\"]], \"sequential\": [[0.0, \"#0d0887\"], [0.1111111111111111, \"#46039f\"], [0.2222222222222222, \"#7201a8\"], [0.3333333333333333, \"#9c179e\"], [0.4444444444444444, \"#bd3786\"], [0.5555555555555556, \"#d8576b\"], [0.6666666666666666, \"#ed7953\"], [0.7777777777777778, \"#fb9f3a\"], [0.8888888888888888, \"#fdca26\"], [1.0, \"#f0f921\"]], \"sequentialminus\": [[0.0, \"#0d0887\"], [0.1111111111111111, \"#46039f\"], [0.2222222222222222, \"#7201a8\"], [0.3333333333333333, \"#9c179e\"], [0.4444444444444444, \"#bd3786\"], [0.5555555555555556, \"#d8576b\"], [0.6666666666666666, \"#ed7953\"], [0.7777777777777778, \"#fb9f3a\"], [0.8888888888888888, \"#fdca26\"], [1.0, \"#f0f921\"]]}, \"colorway\": [\"#636efa\", \"#EF553B\", \"#00cc96\", \"#ab63fa\", \"#FFA15A\", \"#19d3f3\", \"#FF6692\", \"#B6E880\", \"#FF97FF\", \"#FECB52\"], \"font\": {\"color\": \"#2a3f5f\"}, \"geo\": {\"bgcolor\": \"white\", \"lakecolor\": \"white\", \"landcolor\": \"#E5ECF6\", \"showlakes\": true, \"showland\": true, \"subunitcolor\": \"white\"}, \"hoverlabel\": {\"align\": \"left\"}, \"hovermode\": \"closest\", \"mapbox\": {\"style\": \"light\"}, \"paper_bgcolor\": \"white\", \"plot_bgcolor\": \"#E5ECF6\", \"polar\": {\"angularaxis\": {\"gridcolor\": \"white\", \"linecolor\": \"white\", \"ticks\": \"\"}, \"bgcolor\": \"#E5ECF6\", \"radialaxis\": {\"gridcolor\": \"white\", \"linecolor\": \"white\", \"ticks\": \"\"}}, \"scene\": {\"xaxis\": {\"backgroundcolor\": \"#E5ECF6\", \"gridcolor\": \"white\", \"gridwidth\": 2, \"linecolor\": \"white\", \"showbackground\": true, \"ticks\": \"\", \"zerolinecolor\": \"white\"}, \"yaxis\": {\"backgroundcolor\": \"#E5ECF6\", \"gridcolor\": \"white\", \"gridwidth\": 2, \"linecolor\": \"white\", \"showbackground\": true, \"ticks\": \"\", \"zerolinecolor\": \"white\"}, \"zaxis\": {\"backgroundcolor\": \"#E5ECF6\", \"gridcolor\": \"white\", \"gridwidth\": 2, \"linecolor\": \"white\", \"showbackground\": true, \"ticks\": \"\", \"zerolinecolor\": \"white\"}}, \"shapedefaults\": {\"line\": {\"color\": \"#2a3f5f\"}}, \"ternary\": {\"aaxis\": {\"gridcolor\": \"white\", \"linecolor\": \"white\", \"ticks\": \"\"}, \"baxis\": {\"gridcolor\": \"white\", \"linecolor\": \"white\", \"ticks\": \"\"}, \"bgcolor\": \"#E5ECF6\", \"caxis\": {\"gridcolor\": \"white\", \"linecolor\": \"white\", \"ticks\": \"\"}}, \"title\": {\"x\": 0.05}, \"xaxis\": {\"automargin\": true, \"gridcolor\": \"white\", \"linecolor\": \"white\", \"ticks\": \"\", \"title\": {\"standoff\": 15}, \"zerolinecolor\": \"white\", \"zerolinewidth\": 2}, \"yaxis\": {\"automargin\": true, \"gridcolor\": \"white\", \"linecolor\": \"white\", \"ticks\": \"\", \"title\": {\"standoff\": 15}, \"zerolinecolor\": \"white\", \"zerolinewidth\": 2}}}, \"title\": {\"text\": \"Historical Data\"}, \"yaxis\": {\"title\": {\"text\": \"INFYStock\"}}},                        {\"responsive\": true}                    ).then(function(){\n",
       "                            \n",
       "var gd = document.getElementById('3781863c-34bf-41b5-82e1-fef507146e55');\n",
       "var x = new MutationObserver(function (mutations, observer) {{\n",
       "        var display = window.getComputedStyle(gd).display;\n",
       "        if (!display || display === 'none') {{\n",
       "            console.log([gd, 'removed!']);\n",
       "            Plotly.purge(gd);\n",
       "            observer.disconnect();\n",
       "        }}\n",
       "}});\n",
       "\n",
       "// Listen for the removal of the full notebook cells\n",
       "var notebookContainer = gd.closest('#notebook-container');\n",
       "if (notebookContainer) {{\n",
       "    x.observe(notebookContainer, {childList: true});\n",
       "}}\n",
       "\n",
       "// Listen for the clearing of the current output cell\n",
       "var outputEl = gd.closest('.output');\n",
       "if (outputEl) {{\n",
       "    x.observe(outputEl, {childList: true});\n",
       "}}\n",
       "\n",
       "                        })                };                });            </script>        </div>"
      ]
     },
     "metadata": {},
     "output_type": "display_data"
    }
   ],
   "source": [
    "plot = pg.Figure(data = [pg.Candlestick(x = df.index,\n",
    "                                       open = df['Open'],\n",
    "                                       high = df['High'],\n",
    "                                       low = df['Low'],\n",
    "                                       close = df['Close'])])\n",
    "plot.update_layout(\n",
    "    title = 'Historical Data',\n",
    "    yaxis_title = company_name + \"Stock\",\n",
    ")\n",
    "\n",
    "plot.show()"
   ]
  },
  {
   "cell_type": "code",
   "execution_count": null,
   "id": "resident-communist",
   "metadata": {},
   "outputs": [],
   "source": []
  }
 ],
 "metadata": {
  "kernelspec": {
   "display_name": "Python 3",
   "language": "python",
   "name": "python3"
  },
  "language_info": {
   "codemirror_mode": {
    "name": "ipython",
    "version": 3
   },
   "file_extension": ".py",
   "mimetype": "text/x-python",
   "name": "python",
   "nbconvert_exporter": "python",
   "pygments_lexer": "ipython3",
   "version": "3.8.4"
  }
 },
 "nbformat": 4,
 "nbformat_minor": 5
}
