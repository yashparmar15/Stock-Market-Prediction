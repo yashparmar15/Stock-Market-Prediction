{
 "cells": [
  {
   "cell_type": "code",
   "execution_count": 1,
   "id": "floral-intensity",
   "metadata": {},
   "outputs": [
    {
     "name": "stdout",
     "output_type": "stream",
     "text": [
      "Requirement already satisfied: yfinance in c:\\python38\\lib\\site-packages (0.1.55)\n"
     ]
    },
    {
     "name": "stderr",
     "output_type": "stream",
     "text": [
      "WARNING: You are using pip version 20.1.1; however, version 21.0.1 is available.\n",
      "You should consider upgrading via the 'c:\\python38\\python.exe -m pip install --upgrade pip' command.\n"
     ]
    },
    {
     "name": "stdout",
     "output_type": "stream",
     "text": [
      "Requirement already satisfied: pandas>=0.24 in c:\\python38\\lib\\site-packages (from yfinance) (1.2.0)\n",
      "Requirement already satisfied: numpy>=1.15 in c:\\python38\\lib\\site-packages (from yfinance) (1.19.5)\n",
      "Requirement already satisfied: requests>=2.20 in c:\\python38\\lib\\site-packages (from yfinance) (2.24.0)\n",
      "Requirement already satisfied: multitasking>=0.0.7 in c:\\python38\\lib\\site-packages (from yfinance) (0.0.9)\n",
      "Requirement already satisfied: lxml>=4.5.1 in c:\\python38\\lib\\site-packages (from yfinance) (4.6.2)\n",
      "Requirement already satisfied: python-dateutil>=2.7.3 in c:\\python38\\lib\\site-packages (from pandas>=0.24->yfinance) (2.8.1)\n",
      "Requirement already satisfied: pytz>=2017.3 in c:\\python38\\lib\\site-packages (from pandas>=0.24->yfinance) (2020.1)\n",
      "Requirement already satisfied: chardet<4,>=3.0.2 in c:\\python38\\lib\\site-packages (from requests>=2.20->yfinance) (3.0.4)\n",
      "Requirement already satisfied: urllib3!=1.25.0,!=1.25.1,<1.26,>=1.21.1 in c:\\python38\\lib\\site-packages (from requests>=2.20->yfinance) (1.25.10)\n",
      "Requirement already satisfied: idna<3,>=2.5 in c:\\python38\\lib\\site-packages (from requests>=2.20->yfinance) (2.10)\n",
      "Requirement already satisfied: certifi>=2017.4.17 in c:\\python38\\lib\\site-packages (from requests>=2.20->yfinance) (2020.6.20)\n",
      "Requirement already satisfied: six>=1.5 in c:\\python38\\lib\\site-packages (from python-dateutil>=2.7.3->pandas>=0.24->yfinance) (1.14.0)\n"
     ]
    }
   ],
   "source": [
    "!pip install yfinance"
   ]
  },
  {
   "cell_type": "code",
   "execution_count": 2,
   "id": "packed-foster",
   "metadata": {},
   "outputs": [
    {
     "name": "stdout",
     "output_type": "stream",
     "text": [
      "Requirement already satisfied: plotly in c:\\python38\\lib\\site-packages (4.14.3)"
     ]
    },
    {
     "name": "stderr",
     "output_type": "stream",
     "text": [
      "WARNING: You are using pip version 20.1.1; however, version 21.0.1 is available.\n",
      "You should consider upgrading via the 'c:\\python38\\python.exe -m pip install --upgrade pip' command.\n"
     ]
    },
    {
     "name": "stdout",
     "output_type": "stream",
     "text": [
      "\n",
      "Requirement already satisfied: retrying>=1.3.3 in c:\\python38\\lib\\site-packages (from plotly) (1.3.3)\n",
      "Requirement already satisfied: six in c:\\python38\\lib\\site-packages (from plotly) (1.14.0)\n"
     ]
    }
   ],
   "source": [
    "!pip install plotly"
   ]
  },
  {
   "cell_type": "code",
   "execution_count": 23,
   "id": "unlike-fashion",
   "metadata": {},
   "outputs": [
    {
     "name": "stdout",
     "output_type": "stream",
     "text": [
      "Collecting openpyxl"
     ]
    },
    {
     "name": "stderr",
     "output_type": "stream",
     "text": [
      "WARNING: You are using pip version 20.1.1; however, version 21.0.1 is available.\n",
      "You should consider upgrading via the 'c:\\python38\\python.exe -m pip install --upgrade pip' command.\n"
     ]
    },
    {
     "name": "stdout",
     "output_type": "stream",
     "text": [
      "\n",
      "  Downloading openpyxl-3.0.6-py2.py3-none-any.whl (242 kB)\n",
      "Collecting jdcal\n",
      "  Downloading jdcal-1.4.1-py2.py3-none-any.whl (9.5 kB)\n",
      "Collecting et-xmlfile\n",
      "  Downloading et_xmlfile-1.0.1.tar.gz (8.4 kB)\n",
      "Using legacy setup.py install for et-xmlfile, since package 'wheel' is not installed.\n",
      "Installing collected packages: jdcal, et-xmlfile, openpyxl\n",
      "    Running setup.py install for et-xmlfile: started\n",
      "    Running setup.py install for et-xmlfile: finished with status 'done'\n",
      "Successfully installed et-xmlfile-1.0.1 jdcal-1.4.1 openpyxl-3.0.6\n"
     ]
    }
   ],
   "source": [
    "!pip install openpyxl"
   ]
  },
  {
   "cell_type": "code",
   "execution_count": 24,
   "id": "pretty-cache",
   "metadata": {},
   "outputs": [],
   "source": [
    "import pandas as pd\n",
    "import numpy as np\n",
    "import yfinance as yf\n",
    "from datetime import datetime\n",
    "import plotly.graph_objects as pg\n",
    "import ipywidgets as widgets\n",
    "import IPython\n",
    "from IPython.display import display"
   ]
  },
  {
   "cell_type": "code",
   "execution_count": 42,
   "id": "prospective-lesbian",
   "metadata": {},
   "outputs": [
    {
     "data": {
      "application/vnd.jupyter.widget-view+json": {
       "model_id": "e704d6ecb5cf4a8c934975ad5844b3c1",
       "version_major": 2,
       "version_minor": 0
      },
      "text/plain": [
       "Label(value='Enter Company Name :')"
      ]
     },
     "metadata": {},
     "output_type": "display_data"
    },
    {
     "data": {
      "application/vnd.jupyter.widget-view+json": {
       "model_id": "5166d3e815b84cc784bc7a21c35736ad",
       "version_major": 2,
       "version_minor": 0
      },
      "text/plain": [
       "Combobox(value='HDFC Bank Limited', ensure_option=True, options=('Reliance Industries Limited', 'Tata Consulta…"
      ]
     },
     "metadata": {},
     "output_type": "display_data"
    },
    {
     "data": {
      "application/vnd.jupyter.widget-view+json": {
       "model_id": "e280b4466e964cd1a2df8a77e423b4b1",
       "version_major": 2,
       "version_minor": 0
      },
      "text/plain": [
       "Label(value='Enter Time Duration :')"
      ]
     },
     "metadata": {},
     "output_type": "display_data"
    },
    {
     "data": {
      "application/vnd.jupyter.widget-view+json": {
       "model_id": "5fcd7059786d402bb9fa2ac6fbc529c2",
       "version_major": 2,
       "version_minor": 0
      },
      "text/plain": [
       "Text(value='2y', continuous_update=False)"
      ]
     },
     "metadata": {},
     "output_type": "display_data"
    },
    {
     "data": {
      "application/vnd.jupyter.widget-view+json": {
       "model_id": "7b48a67c89c947d2ae81424a8c305d18",
       "version_major": 2,
       "version_minor": 0
      },
      "text/plain": [
       "Label(value='Enter Time Interval :')"
      ]
     },
     "metadata": {},
     "output_type": "display_data"
    },
    {
     "data": {
      "application/vnd.jupyter.widget-view+json": {
       "model_id": "d21f1f417aff4d53a61faaef757e4bbb",
       "version_major": 2,
       "version_minor": 0
      },
      "text/plain": [
       "Select(index=11, options=('1m', '2m', '5m', '15m', '30m', '60m', '90m', '1h', '1d', '5d', '1wk', '1mo', '3mo')…"
      ]
     },
     "metadata": {},
     "output_type": "display_data"
    },
    {
     "data": {
      "application/vnd.jupyter.widget-view+json": {
       "model_id": "9dda250031c740efba077a0c9e168c2d",
       "version_major": 2,
       "version_minor": 0
      },
      "text/plain": [
       "Button(description='Show', style=ButtonStyle())"
      ]
     },
     "metadata": {},
     "output_type": "display_data"
    },
    {
     "name": "stdout",
     "output_type": "stream",
     "text": [
      "[*********************100%***********************]  1 of 1 completed\n",
      "                   Open         High          Low        Close    Adj Close  \\\n",
      "Date                                                                          \n",
      "2019-04-01  1162.625000  1166.000000  1115.500000  1158.724976  1149.010376   \n",
      "2019-05-01  1158.724976  1232.500000  1135.800049  1212.675049  1202.508179   \n",
      "2019-06-01  1213.500000  1247.250000  1201.500000  1221.875000  1211.630981   \n",
      "2019-06-20          NaN          NaN          NaN          NaN          NaN   \n",
      "2019-07-01  1228.000000  1251.650024  1111.525024  1125.824951  1123.324951   \n",
      "2019-08-01  1114.550049  1144.500000  1069.800049  1113.974976  1111.501343   \n",
      "2019-08-01          NaN          NaN          NaN          NaN          NaN   \n",
      "2019-09-01  1113.974976  1282.699951  1084.000000  1227.449951  1227.449951   \n",
      "2019-09-19          NaN          NaN          NaN          NaN          NaN   \n",
      "2019-10-01  1231.500000  1263.900024  1181.150024  1230.349976  1230.349976   \n",
      "2019-11-01  1239.000000  1287.000000  1227.599976  1274.949951  1274.949951   \n",
      "2019-12-01  1273.949951  1305.500000  1234.199951  1272.099976  1272.099976   \n",
      "2020-01-01  1276.099976  1304.849976  1211.750000  1226.300049  1226.300049   \n",
      "2020-02-01  1220.000000  1259.900024  1170.099976  1177.650024  1177.650024   \n",
      "2020-03-01  1200.199951  1201.150024   738.750000   861.900024   861.900024   \n",
      "2020-04-01   863.849976  1019.000000   810.000000  1001.799988  1001.799988   \n",
      "2020-05-01  1001.799988  1001.799988   826.099976   951.650024   951.650024   \n",
      "2020-06-01   975.000000  1082.599976   928.000000  1065.849976  1065.849976   \n",
      "2020-07-01  1065.849976  1157.949951  1020.049988  1032.800049  1032.800049   \n",
      "2020-08-01  1025.949951  1148.800049   993.000000  1115.849976  1115.849976   \n",
      "2020-09-01  1128.000000  1145.949951  1025.000000  1078.599976  1078.599976   \n",
      "2020-10-01  1090.099976  1251.000000  1090.099976  1183.550049  1183.550049   \n",
      "2020-11-01  1194.349976  1464.400024  1177.500000  1440.849976  1440.849976   \n",
      "2020-12-01  1440.849976  1449.000000  1345.000000  1436.300049  1436.300049   \n",
      "2021-01-01  1440.000000  1511.650024  1342.000000  1390.500000  1390.500000   \n",
      "2021-02-01  1410.250000  1641.000000  1401.000000  1534.400024  1534.400024   \n",
      "2021-03-01  1564.000000  1572.550049  1540.699951  1558.900024  1558.900024   \n",
      "2021-03-02  1575.699951  1587.500000  1551.000000  1568.199951  1568.199951   \n",
      "\n",
      "                 Volume  \n",
      "Date                     \n",
      "2019-04-01  154552166.0  \n",
      "2019-05-01  140215256.0  \n",
      "2019-06-01  101231920.0  \n",
      "2019-06-20          NaN  \n",
      "2019-07-01  140970808.0  \n",
      "2019-08-01  180786992.0  \n",
      "2019-08-01          NaN  \n",
      "2019-09-01  176051693.0  \n",
      "2019-09-19          NaN  \n",
      "2019-10-01  137198069.0  \n",
      "2019-11-01  112330501.0  \n",
      "2019-12-01  117016801.0  \n",
      "2020-01-01  137910086.0  \n",
      "2020-02-01  131226577.0  \n",
      "2020-03-01  473125765.0  \n",
      "2020-04-01  397741571.0  \n",
      "2020-05-01  383193554.0  \n",
      "2020-06-01  467983388.0  \n",
      "2020-07-01  352780703.0  \n",
      "2020-08-01  292230618.0  \n",
      "2020-09-01  208518898.0  \n",
      "2020-10-01  255629727.0  \n",
      "2020-11-01  256002266.0  \n",
      "2020-12-01  224469430.0  \n",
      "2021-01-01  203209754.0  \n",
      "2021-02-01  199359334.0  \n",
      "2021-03-01    6768009.0  \n",
      "2021-03-02    8054277.0  \n",
      "            Dividends\n",
      "Date                 \n",
      "1997-06-09      0.080\n",
      "1998-06-11      0.100\n",
      "1999-04-19      0.130\n",
      "2000-04-06      0.160\n",
      "2001-04-20      0.200\n",
      "2002-05-07      0.250\n",
      "2003-04-30      0.300\n",
      "2004-05-06      0.350\n",
      "2005-05-26      0.450\n",
      "2006-05-11      0.550\n",
      "2007-05-17      0.700\n",
      "2008-04-29      0.850\n",
      "2009-06-22      1.000\n",
      "2010-06-10      1.200\n",
      "2011-06-02      1.650\n",
      "2012-06-28      2.150\n",
      "2013-06-13      2.750\n",
      "2014-06-05      3.425\n",
      "2015-07-02      4.000\n",
      "2016-06-29      4.750\n",
      "2017-06-29      5.500\n",
      "2018-05-31      6.500\n",
      "2019-06-20      7.500\n",
      "2019-08-01      2.500\n",
      "         Date         Open         High          Low        Close  \\\n",
      "0  2019-04-01  1162.625000  1166.000000  1115.500000  1158.724976   \n",
      "1  2019-05-01  1158.724976  1232.500000  1135.800049  1212.675049   \n",
      "2  2019-06-01  1213.500000  1247.250000  1201.500000  1221.875000   \n",
      "3  2019-07-01  1228.000000  1251.650024  1111.525024  1125.824951   \n",
      "4  2019-08-01  1114.550049  1144.500000  1069.800049  1113.974976   \n",
      "5  2019-09-01  1113.974976  1282.699951  1084.000000  1227.449951   \n",
      "6  2019-10-01  1231.500000  1263.900024  1181.150024  1230.349976   \n",
      "7  2019-11-01  1239.000000  1287.000000  1227.599976  1274.949951   \n",
      "8  2019-12-01  1273.949951  1305.500000  1234.199951  1272.099976   \n",
      "9  2020-01-01  1276.099976  1304.849976  1211.750000  1226.300049   \n",
      "10 2020-02-01  1220.000000  1259.900024  1170.099976  1177.650024   \n",
      "11 2020-03-01  1200.199951  1201.150024   738.750000   861.900024   \n",
      "12 2020-04-01   863.849976  1019.000000   810.000000  1001.799988   \n",
      "13 2020-05-01  1001.799988  1001.799988   826.099976   951.650024   \n",
      "14 2020-06-01   975.000000  1082.599976   928.000000  1065.849976   \n",
      "15 2020-07-01  1065.849976  1157.949951  1020.049988  1032.800049   \n",
      "16 2020-08-01  1025.949951  1148.800049   993.000000  1115.849976   \n",
      "17 2020-09-01  1128.000000  1145.949951  1025.000000  1078.599976   \n",
      "18 2020-10-01  1090.099976  1251.000000  1090.099976  1183.550049   \n",
      "19 2020-11-01  1194.349976  1464.400024  1177.500000  1440.849976   \n",
      "20 2020-12-01  1440.849976  1449.000000  1345.000000  1436.300049   \n",
      "21 2021-01-01  1440.000000  1511.650024  1342.000000  1390.500000   \n",
      "22 2021-02-01  1410.250000  1641.000000  1401.000000  1534.400024   \n",
      "23 2021-03-01  1564.000000  1572.550049  1540.699951  1558.900024   \n",
      "24 2021-03-02  1575.699951  1587.500000  1551.000000  1568.199951   \n",
      "\n",
      "      Adj Close       Volume  Dividends  Splits  \n",
      "0   1149.010376  154552166.0        0.0     1.0  \n",
      "1   1202.508179  140215256.0        0.0     1.0  \n",
      "2   1211.630981  101231920.0        0.0     1.0  \n",
      "3   1123.324951  140970808.0        0.0     1.0  \n",
      "4   1111.501343  180786992.0        2.5     1.0  \n",
      "5   1227.449951  176051693.0        0.0     1.0  \n",
      "6   1230.349976  137198069.0        0.0     1.0  \n",
      "7   1274.949951  112330501.0        0.0     1.0  \n",
      "8   1272.099976  117016801.0        0.0     1.0  \n",
      "9   1226.300049  137910086.0        0.0     1.0  \n",
      "10  1177.650024  131226577.0        0.0     1.0  \n",
      "11   861.900024  473125765.0        0.0     1.0  \n",
      "12  1001.799988  397741571.0        0.0     1.0  \n",
      "13   951.650024  383193554.0        0.0     1.0  \n",
      "14  1065.849976  467983388.0        0.0     1.0  \n",
      "15  1032.800049  352780703.0        0.0     1.0  \n",
      "16  1115.849976  292230618.0        0.0     1.0  \n",
      "17  1078.599976  208518898.0        0.0     1.0  \n",
      "18  1183.550049  255629727.0        0.0     1.0  \n",
      "19  1440.849976  256002266.0        0.0     1.0  \n",
      "20  1436.300049  224469430.0        0.0     1.0  \n",
      "21  1390.500000  203209754.0        0.0     1.0  \n",
      "22  1534.400024  199359334.0        0.0     1.0  \n",
      "23  1558.900024    6768009.0        0.0     1.0  \n",
      "24  1568.199951    8054277.0        0.0     1.0  \n"
     ]
    }
   ],
   "source": [
    "companies = pd.DataFrame(pd.read_excel(\"NSEcomp.xlsx\"))\n",
    "D = {}\n",
    "companies_name = companies['Company Name'].tolist()\n",
    "companies_symbol = companies['Symbol'].tolist()\n",
    "i = 0\n",
    "for company in companies_name:\n",
    "    D[company] = companies_symbol[i]\n",
    "    i += 1\n",
    "\n",
    "    \n",
    "label1 = widgets.Label(\"Enter Company Name :\")\n",
    "display(label1)\n",
    "company = widgets.Combobox(\n",
    "    placeholder = \"Type Company Name\",\n",
    "    ensure_option = True,\n",
    "    options = companies_name,\n",
    "    disabled=False\n",
    ")\n",
    "display(company)\n",
    "label2 = widgets.Label(\"Enter Time Duration :\")\n",
    "display(label2)\n",
    "duration = widgets.Text(\n",
    "    continuous_update=False,\n",
    "    disabled=False\n",
    ")\n",
    "display(duration)\n",
    "label3 = widgets.Label(\"Enter Time Interval :\")\n",
    "display(label3)\n",
    "interval = widgets.Select(\n",
    "    options = ['1m', '2m', '5m', '15m', '30m', '60m', '90m', '1h', '1d', '5d', '1wk', '1mo', '3mo'],\n",
    "    value = \"1h\",\n",
    "    disabled = False,\n",
    "    continuous_update=False,\n",
    ")\n",
    "display(interval)\n",
    "\n",
    "show = widgets.Button(\n",
    "    description = \"Show\"\n",
    ")\n",
    "\n",
    "def fetch():\n",
    "    global df\n",
    "    company_name = D[company.value]\n",
    "    msft = yf.Ticker(company_name + '.NS')\n",
    "    df = pd.DataFrame(yf.download(company_name + '.NS', period = duration.value,interval = interval.value))\n",
    "    print(df)\n",
    "    df = df.dropna()\n",
    "    dividends = pd.DataFrame(msft.dividends)\n",
    "    print(dividends)\n",
    "    stock_splits = pd.DataFrame(msft.splits)\n",
    "    df[\"Dividends\"] = dividends[\"Dividends\"]\n",
    "    df = df.fillna(0)\n",
    "    df[\"Splits\"] = stock_splits[\"Stock Splits\"]\n",
    "    df = df.fillna(1)\n",
    "    df = df.reset_index()\n",
    "    print(df)\n",
    "    \n",
    "\n",
    "def on_change(change):\n",
    "    IPython.display.clear_output(wait=False)\n",
    "    display(label1)\n",
    "    display(company)\n",
    "    display(label2)\n",
    "    display(duration)\n",
    "    display(label3)\n",
    "    display(interval)\n",
    "    display(show)\n",
    "    fetch()\n",
    "#     show.on_click(on_change)\n",
    "#     df = yf.download(company.value, period=duration.value, interval=interval.value)\n",
    "#     fig = pg.Figure(data=[pg.Candlestick(x=df.index,\n",
    "#             open=df['Open'],\n",
    "#             high=df['High'],\n",
    "#             low=df['Low'],\n",
    "#             close=df['Close'])])\n",
    "#     fig.update_layout( title='Historical Data of Stock Prices', \n",
    "#                             yaxis_title=company.value+\" Stock Price\",\n",
    "#                             xaxis_title=\" Time\",)\n",
    "#     fig.show()\n",
    "    \n",
    "display(show)\n",
    "show.on_click(on_change)"
   ]
  },
  {
   "cell_type": "code",
   "execution_count": 26,
   "id": "statistical-nerve",
   "metadata": {},
   "outputs": [
    {
     "data": {
      "text/html": [
       "<div>\n",
       "<style scoped>\n",
       "    .dataframe tbody tr th:only-of-type {\n",
       "        vertical-align: middle;\n",
       "    }\n",
       "\n",
       "    .dataframe tbody tr th {\n",
       "        vertical-align: top;\n",
       "    }\n",
       "\n",
       "    .dataframe thead th {\n",
       "        text-align: right;\n",
       "    }\n",
       "</style>\n",
       "<table border=\"1\" class=\"dataframe\">\n",
       "  <thead>\n",
       "    <tr style=\"text-align: right;\">\n",
       "      <th></th>\n",
       "      <th>Sr. No.</th>\n",
       "      <th>Symbol</th>\n",
       "      <th>Company Name</th>\n",
       "      <th>Market capitalization (Rs in Lakhs)</th>\n",
       "      <th>Unnamed: 4</th>\n",
       "    </tr>\n",
       "  </thead>\n",
       "  <tbody>\n",
       "    <tr>\n",
       "      <th>0</th>\n",
       "      <td>1</td>\n",
       "      <td>RELIANCE</td>\n",
       "      <td>Reliance Industries Limited-RELIANCE</td>\n",
       "      <td>125856321.024160</td>\n",
       "      <td>NaN</td>\n",
       "    </tr>\n",
       "    <tr>\n",
       "      <th>1</th>\n",
       "      <td>2</td>\n",
       "      <td>TCS</td>\n",
       "      <td>Tata Consultancy Services Limited-TCS</td>\n",
       "      <td>107421393.171015</td>\n",
       "      <td>NaN</td>\n",
       "    </tr>\n",
       "    <tr>\n",
       "      <th>2</th>\n",
       "      <td>3</td>\n",
       "      <td>HDFCBANK</td>\n",
       "      <td>HDFC Bank Limited-HDFCBANK</td>\n",
       "      <td>79041413.905328</td>\n",
       "      <td>NaN</td>\n",
       "    </tr>\n",
       "    <tr>\n",
       "      <th>3</th>\n",
       "      <td>4</td>\n",
       "      <td>HINDUNILVR</td>\n",
       "      <td>Hindustan Unilever Limited-HINDUNILVR</td>\n",
       "      <td>56281270.532270</td>\n",
       "      <td>NaN</td>\n",
       "    </tr>\n",
       "    <tr>\n",
       "      <th>4</th>\n",
       "      <td>5</td>\n",
       "      <td>INFY</td>\n",
       "      <td>Infosys Limited-INFY</td>\n",
       "      <td>53489485.222992</td>\n",
       "      <td>NaN</td>\n",
       "    </tr>\n",
       "    <tr>\n",
       "      <th>...</th>\n",
       "      <td>...</td>\n",
       "      <td>...</td>\n",
       "      <td>...</td>\n",
       "      <td>...</td>\n",
       "      <td>...</td>\n",
       "    </tr>\n",
       "    <tr>\n",
       "      <th>1908</th>\n",
       "      <td>1909</td>\n",
       "      <td>VISESHINFO</td>\n",
       "      <td>Visesh Infotecnics Limited-VISESHINFO</td>\n",
       "      <td>* Not Traded as on December 31, 2020</td>\n",
       "      <td>NaN</td>\n",
       "    </tr>\n",
       "    <tr>\n",
       "      <th>1909</th>\n",
       "      <td>1910</td>\n",
       "      <td>VISUINTL</td>\n",
       "      <td>Visu International Limited-VISUINTL</td>\n",
       "      <td>* Not Traded as on December 31, 2020</td>\n",
       "      <td>NaN</td>\n",
       "    </tr>\n",
       "    <tr>\n",
       "      <th>1910</th>\n",
       "      <td>1911</td>\n",
       "      <td>WINSOME</td>\n",
       "      <td>Winsome Yarns Limited-WINSOME</td>\n",
       "      <td>* Not Traded as on December 31, 2020</td>\n",
       "      <td>NaN</td>\n",
       "    </tr>\n",
       "    <tr>\n",
       "      <th>1911</th>\n",
       "      <td>1912</td>\n",
       "      <td>XLENERGY</td>\n",
       "      <td>XL Energy Limited-XLENERGY</td>\n",
       "      <td>* Not Traded as on December 31, 2020</td>\n",
       "      <td>NaN</td>\n",
       "    </tr>\n",
       "    <tr>\n",
       "      <th>1912</th>\n",
       "      <td>1913</td>\n",
       "      <td>ZYLOG</td>\n",
       "      <td>Zylog Systems Limited-ZYLOG</td>\n",
       "      <td>* Not Traded as on December 31, 2020</td>\n",
       "      <td>NaN</td>\n",
       "    </tr>\n",
       "  </tbody>\n",
       "</table>\n",
       "<p>1913 rows × 5 columns</p>\n",
       "</div>"
      ],
      "text/plain": [
       "      Sr. No.      Symbol                           Company Name  \\\n",
       "0           1    RELIANCE   Reliance Industries Limited-RELIANCE   \n",
       "1           2         TCS  Tata Consultancy Services Limited-TCS   \n",
       "2           3    HDFCBANK             HDFC Bank Limited-HDFCBANK   \n",
       "3           4  HINDUNILVR  Hindustan Unilever Limited-HINDUNILVR   \n",
       "4           5        INFY                   Infosys Limited-INFY   \n",
       "...       ...         ...                                    ...   \n",
       "1908     1909  VISESHINFO  Visesh Infotecnics Limited-VISESHINFO   \n",
       "1909     1910    VISUINTL    Visu International Limited-VISUINTL   \n",
       "1910     1911     WINSOME          Winsome Yarns Limited-WINSOME   \n",
       "1911     1912    XLENERGY             XL Energy Limited-XLENERGY   \n",
       "1912     1913       ZYLOG            Zylog Systems Limited-ZYLOG   \n",
       "\n",
       "       Market capitalization (Rs in Lakhs)  Unnamed: 4  \n",
       "0                         125856321.024160         NaN  \n",
       "1                         107421393.171015         NaN  \n",
       "2                          79041413.905328         NaN  \n",
       "3                          56281270.532270         NaN  \n",
       "4                          53489485.222992         NaN  \n",
       "...                                    ...         ...  \n",
       "1908  * Not Traded as on December 31, 2020         NaN  \n",
       "1909  * Not Traded as on December 31, 2020         NaN  \n",
       "1910  * Not Traded as on December 31, 2020         NaN  \n",
       "1911  * Not Traded as on December 31, 2020         NaN  \n",
       "1912  * Not Traded as on December 31, 2020         NaN  \n",
       "\n",
       "[1913 rows x 5 columns]"
      ]
     },
     "execution_count": 26,
     "metadata": {},
     "output_type": "execute_result"
    }
   ],
   "source": []
  },
  {
   "cell_type": "code",
   "execution_count": null,
   "id": "placed-radar",
   "metadata": {},
   "outputs": [],
   "source": []
  }
 ],
 "metadata": {
  "kernelspec": {
   "display_name": "Python 3",
   "language": "python",
   "name": "python3"
  },
  "language_info": {
   "codemirror_mode": {
    "name": "ipython",
    "version": 3
   },
   "file_extension": ".py",
   "mimetype": "text/x-python",
   "name": "python",
   "nbconvert_exporter": "python",
   "pygments_lexer": "ipython3",
   "version": "3.8.4"
  }
 },
 "nbformat": 4,
 "nbformat_minor": 5
}
