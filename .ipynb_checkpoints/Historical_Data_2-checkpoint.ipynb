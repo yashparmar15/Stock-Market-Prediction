{
 "cells": [
  {
   "cell_type": "code",
   "execution_count": 1,
   "id": "floral-intensity",
   "metadata": {},
   "outputs": [
    {
     "name": "stdout",
     "output_type": "stream",
     "text": [
      "Requirement already satisfied: yfinance in c:\\python38\\lib\\site-packages (0.1.55)\n"
     ]
    },
    {
     "name": "stderr",
     "output_type": "stream",
     "text": [
      "WARNING: You are using pip version 20.1.1; however, version 21.0.1 is available.\n",
      "You should consider upgrading via the 'c:\\python38\\python.exe -m pip install --upgrade pip' command.\n"
     ]
    },
    {
     "name": "stdout",
     "output_type": "stream",
     "text": [
      "Requirement already satisfied: pandas>=0.24 in c:\\python38\\lib\\site-packages (from yfinance) (1.2.0)\n",
      "Requirement already satisfied: numpy>=1.15 in c:\\python38\\lib\\site-packages (from yfinance) (1.19.5)\n",
      "Requirement already satisfied: requests>=2.20 in c:\\python38\\lib\\site-packages (from yfinance) (2.24.0)\n",
      "Requirement already satisfied: multitasking>=0.0.7 in c:\\python38\\lib\\site-packages (from yfinance) (0.0.9)\n",
      "Requirement already satisfied: lxml>=4.5.1 in c:\\python38\\lib\\site-packages (from yfinance) (4.6.2)\n",
      "Requirement already satisfied: python-dateutil>=2.7.3 in c:\\python38\\lib\\site-packages (from pandas>=0.24->yfinance) (2.8.1)\n",
      "Requirement already satisfied: pytz>=2017.3 in c:\\python38\\lib\\site-packages (from pandas>=0.24->yfinance) (2020.1)\n",
      "Requirement already satisfied: chardet<4,>=3.0.2 in c:\\python38\\lib\\site-packages (from requests>=2.20->yfinance) (3.0.4)\n",
      "Requirement already satisfied: urllib3!=1.25.0,!=1.25.1,<1.26,>=1.21.1 in c:\\python38\\lib\\site-packages (from requests>=2.20->yfinance) (1.25.10)\n",
      "Requirement already satisfied: idna<3,>=2.5 in c:\\python38\\lib\\site-packages (from requests>=2.20->yfinance) (2.10)\n",
      "Requirement already satisfied: certifi>=2017.4.17 in c:\\python38\\lib\\site-packages (from requests>=2.20->yfinance) (2020.6.20)\n",
      "Requirement already satisfied: six>=1.5 in c:\\python38\\lib\\site-packages (from python-dateutil>=2.7.3->pandas>=0.24->yfinance) (1.14.0)\n"
     ]
    }
   ],
   "source": [
    "!pip install yfinance"
   ]
  },
  {
   "cell_type": "code",
   "execution_count": 2,
   "id": "accessible-adoption",
   "metadata": {},
   "outputs": [
    {
     "name": "stdout",
     "output_type": "stream",
     "text": [
      "Requirement already satisfied: plotly in c:\\python38\\lib\\site-packages (4.14.3)"
     ]
    },
    {
     "name": "stderr",
     "output_type": "stream",
     "text": [
      "WARNING: You are using pip version 20.1.1; however, version 21.0.1 is available.\n",
      "You should consider upgrading via the 'c:\\python38\\python.exe -m pip install --upgrade pip' command.\n"
     ]
    },
    {
     "name": "stdout",
     "output_type": "stream",
     "text": [
      "\n",
      "Requirement already satisfied: retrying>=1.3.3 in c:\\python38\\lib\\site-packages (from plotly) (1.3.3)\n",
      "Requirement already satisfied: six in c:\\python38\\lib\\site-packages (from plotly) (1.14.0)\n"
     ]
    }
   ],
   "source": [
    "!pip install plotly"
   ]
  },
  {
   "cell_type": "code",
   "execution_count": 3,
   "id": "early-civilian",
   "metadata": {},
   "outputs": [],
   "source": [
    "import pandas as pd\n",
    "import yfinance as yf\n",
    "from datetime import datetime\n",
    "import plotly.graph_objects as pg\n",
    "import ipywidgets as widgets\n",
    "import IPython\n",
    "from IPython.display import display"
   ]
  },
  {
   "cell_type": "code",
   "execution_count": 7,
   "id": "medium-arctic",
   "metadata": {},
   "outputs": [
    {
     "data": {
      "application/vnd.jupyter.widget-view+json": {
       "model_id": "26a7174223d0401cbe530c91436e25a9",
       "version_major": 2,
       "version_minor": 0
      },
      "text/plain": [
       "Label(value='Enter Company Name :')"
      ]
     },
     "metadata": {},
     "output_type": "display_data"
    },
    {
     "data": {
      "application/vnd.jupyter.widget-view+json": {
       "model_id": "a5bf1d830237433386eaa4934a13d4d3",
       "version_major": 2,
       "version_minor": 0
      },
      "text/plain": [
       "Text(value='INFY', continuous_update=False)"
      ]
     },
     "metadata": {},
     "output_type": "display_data"
    },
    {
     "data": {
      "application/vnd.jupyter.widget-view+json": {
       "model_id": "22b3bd5df74143f9a20d12d483433cc1",
       "version_major": 2,
       "version_minor": 0
      },
      "text/plain": [
       "Label(value='Enter Time Duration :')"
      ]
     },
     "metadata": {},
     "output_type": "display_data"
    },
    {
     "data": {
      "application/vnd.jupyter.widget-view+json": {
       "model_id": "9587e73bd2044d7a89c487acea946b29",
       "version_major": 2,
       "version_minor": 0
      },
      "text/plain": [
       "Text(value='1mo', continuous_update=False)"
      ]
     },
     "metadata": {},
     "output_type": "display_data"
    },
    {
     "data": {
      "application/vnd.jupyter.widget-view+json": {
       "model_id": "8e2a45d2c83b4446be252930c435adde",
       "version_major": 2,
       "version_minor": 0
      },
      "text/plain": [
       "Label(value='Enter Time Interval :')"
      ]
     },
     "metadata": {},
     "output_type": "display_data"
    },
    {
     "data": {
      "application/vnd.jupyter.widget-view+json": {
       "model_id": "fd31a96ebc26438c9d7b40571f2e54d7",
       "version_major": 2,
       "version_minor": 0
      },
      "text/plain": [
       "Select(index=8, options=('1m', '2m', '5m', '15m', '30m', '60m', '90m', '1h', '1d', '5d', '1wk', '1mo', '3mo'),…"
      ]
     },
     "metadata": {},
     "output_type": "display_data"
    },
    {
     "data": {
      "application/vnd.jupyter.widget-view+json": {
       "model_id": "390721204f9e47ea99c7ab2dfaa617bb",
       "version_major": 2,
       "version_minor": 0
      },
      "text/plain": [
       "Button(description='Show', style=ButtonStyle())"
      ]
     },
     "metadata": {},
     "output_type": "display_data"
    },
    {
     "name": "stdout",
     "output_type": "stream",
     "text": [
      "[*********************100%***********************]  1 of 1 completed\n",
      "                 Open       High        Low      Close  Adj Close    Volume\n",
      "Date                                                                       \n",
      "2021-02-02  17.450001  17.510000  17.340000  17.440001  17.440001   4119800\n",
      "2021-02-03  17.600000  17.750000  17.490000  17.650000  17.650000   4677800\n",
      "2021-02-04  17.540001  17.639999  17.360001  17.590000  17.590000   4439600\n",
      "2021-02-05  17.500000  17.650000  17.389999  17.629999  17.629999   6952300\n",
      "2021-02-08  17.990000  18.010000  17.809999  17.959999  17.959999   3621600\n",
      "2021-02-09  17.860001  17.879999  17.629999  17.639999  17.639999   7973500\n",
      "2021-02-10  17.820000  17.820000  17.420000  17.500000  17.500000  13180500\n",
      "2021-02-11  17.650000  17.920000  17.629999  17.830000  17.830000   6324400\n",
      "2021-02-12  17.900000  18.160000  17.889999  18.070000  18.070000   9810300\n",
      "2021-02-16  17.830000  17.900000  17.660000  17.750000  17.750000   5857800\n",
      "2021-02-17  17.620001  17.719999  17.480000  17.600000  17.600000   8422200\n",
      "2021-02-18  17.680000  17.830000  17.590000  17.830000  17.830000  12267700\n",
      "2021-02-19  17.860001  17.990000  17.850000  17.940001  17.940001   8937800\n",
      "2021-02-22  17.530001  17.680000  17.500000  17.610001  17.610001  10941900\n",
      "2021-02-23  17.440001  17.500000  17.150000  17.379999  17.379999   8335700\n",
      "2021-02-24  17.490000  17.750000  17.299999  17.680000  17.680000   8022800\n",
      "2021-02-25  17.549999  17.709999  17.290001  17.389999  17.389999   7412800\n",
      "2021-02-26  17.200001  17.290001  16.940001  17.120001  17.120001   7421900\n",
      "2021-03-01  17.420000  17.670000  17.379999  17.660000  17.660000   7592500\n",
      "2021-03-02  17.920000  18.030001  17.791599  18.019899  18.019899   2802227\n"
     ]
    }
   ],
   "source": [
    "label1 = widgets.Label(\"Enter Company Name :\")\n",
    "display(label1)\n",
    "company = widgets.Text(\n",
    "    continuous_update=False,\n",
    "    disabled=False\n",
    ")\n",
    "display(company)\n",
    "label2 = widgets.Label(\"Enter Time Duration :\")\n",
    "display(label2)\n",
    "duration = widgets.Text(\n",
    "    continuous_update=False,\n",
    "    disabled=False\n",
    ")\n",
    "display(duration)\n",
    "label3 = widgets.Label(\"Enter Time Interval :\")\n",
    "display(label3)\n",
    "interval = widgets.Select(\n",
    "    options = ['1m', '2m', '5m', '15m', '30m', '60m', '90m', '1h', '1d', '5d', '1wk', '1mo', '3mo'],\n",
    "    value = \"1h\",\n",
    "    disabled = False,\n",
    "    continuous_update=False,\n",
    ")\n",
    "display(interval)\n",
    "\n",
    "show = widgets.Button(\n",
    "    description = \"Show\"\n",
    ")\n",
    "def on_change(change):\n",
    "\n",
    "    global df\n",
    "    IPython.display.clear_output(wait=False)\n",
    "    display(label1)\n",
    "    display(company)\n",
    "    display(label2)\n",
    "    display(duration)\n",
    "    display(label3)\n",
    "    display(interval)\n",
    "    display(show)\n",
    "    show.on_click(on_change)\n",
    "    df = yf.download(company.value, period=duration.value, interval=interval.value)\n",
    "    fig = pg.Figure(data=[pg.Candlestick(x=df.index,\n",
    "            open=df['Open'],\n",
    "            high=df['High'],\n",
    "            low=df['Low'],\n",
    "            close=df['Close'])])\n",
    "    fig.update_layout( title='Historical Data of Stock Prices', \n",
    "                            yaxis_title=company.value+\" Stock Price\",\n",
    "                            xaxis_title=\" Time\",)\n",
    "    msft = yf.Ticker(company.value)\n",
    "#     print(msft.actions)\n",
    "#     fig.show()\n",
    "    print(msft.info)\n",
    "    \n",
    "display(show)\n",
    "show.on_click(on_change)"
   ]
  },
  {
   "cell_type": "code",
   "execution_count": null,
   "id": "northern-capital",
   "metadata": {},
   "outputs": [],
   "source": []
  }
 ],
 "metadata": {
  "kernelspec": {
   "display_name": "Python 3",
   "language": "python",
   "name": "python3"
  },
  "language_info": {
   "codemirror_mode": {
    "name": "ipython",
    "version": 3
   },
   "file_extension": ".py",
   "mimetype": "text/x-python",
   "name": "python",
   "nbconvert_exporter": "python",
   "pygments_lexer": "ipython3",
   "version": "3.8.4"
  }
 },
 "nbformat": 4,
 "nbformat_minor": 5
}
